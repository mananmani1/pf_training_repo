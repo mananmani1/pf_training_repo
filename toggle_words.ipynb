{
 "cells": [
  {
   "cell_type": "markdown",
   "id": "1330f143-6d07-45b1-b397-533ef5622126",
   "metadata": {},
   "source": [
    "**Program in python to Toggle the case of every character of a string**"
   ]
  },
  {
   "cell_type": "code",
   "execution_count": 1,
   "id": "10c1338b-346d-4a98-9bdc-c493ef673f80",
   "metadata": {},
   "outputs": [
    {
     "name": "stdin",
     "output_type": "stream",
     "text": [
      "Type words for toggling: ApPLe\n"
     ]
    },
    {
     "data": {
      "text/plain": [
       "'aPplE'"
      ]
     },
     "execution_count": 1,
     "metadata": {},
     "output_type": "execute_result"
    }
   ],
   "source": [
    "def toggle_words(w):\n",
    "    if words.isdigit():\n",
    "        return 'please do not use only digigts try to use words'\n",
    "    else :\n",
    "        return words.swapcase()\n",
    "        \n",
    "\n",
    "words = input('Type words for toggling:')\n",
    "     \n",
    "toggle_words(words)"
   ]
  },
  {
   "cell_type": "code",
   "execution_count": null,
   "id": "1fa9d856-555c-4067-bcf7-bba53d6c7e12",
   "metadata": {},
   "outputs": [],
   "source": []
  }
 ],
 "metadata": {
  "kernelspec": {
   "display_name": "Python 3 (ipykernel)",
   "language": "python",
   "name": "python3"
  },
  "language_info": {
   "codemirror_mode": {
    "name": "ipython",
    "version": 3
   },
   "file_extension": ".py",
   "mimetype": "text/x-python",
   "name": "python",
   "nbconvert_exporter": "python",
   "pygments_lexer": "ipython3",
   "version": "3.10.9"
  }
 },
 "nbformat": 4,
 "nbformat_minor": 5
}
