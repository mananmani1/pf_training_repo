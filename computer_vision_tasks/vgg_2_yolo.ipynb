{
 "cells": [
  {
   "cell_type": "code",
   "execution_count": 3,
   "id": "2f530d65",
   "metadata": {},
   "outputs": [],
   "source": [
    "import json\n",
    "import os\n",
    "import cv2\n",
    "\n",
    "\n",
    "# Load the JSON annotation data\n",
    "with open(\"cat_dog_annotations.json\", \"r\") as f:\n",
    "    vgg_annotation_data = json.load(f)\n",
    "\n",
    "\n"
   ]
  },
  {
   "cell_type": "code",
   "execution_count": 4,
   "id": "ef55e920",
   "metadata": {},
   "outputs": [
    {
     "data": {
      "text/plain": [
       "{'_via_settings': {'ui': {'annotation_editor_height': 25,\n",
       "   'annotation_editor_fontsize': 0.8,\n",
       "   'leftsidebar_width': 18,\n",
       "   'image_grid': {'img_height': 80,\n",
       "    'rshape_fill': 'none',\n",
       "    'rshape_fill_opacity': 0.3,\n",
       "    'rshape_stroke': 'yellow',\n",
       "    'rshape_stroke_width': 2,\n",
       "    'show_region_shape': True,\n",
       "    'show_image_policy': 'all'},\n",
       "   'image': {'region_label': 'class',\n",
       "    'region_color': '__via_default_region_color__',\n",
       "    'region_label_font': '10px Sans',\n",
       "    'on_image_annotation_editor_placement': 'NEAR_REGION'}},\n",
       "  'core': {'buffer_size': 18, 'filepath': {}, 'default_filepath': ''},\n",
       "  'project': {'name': 'via_project_18Oct2022_11h49m'}},\n",
       " '_via_img_metadata': {'1.jpeg45602': {'filename': '1.jpeg',\n",
       "   'size': 45602,\n",
       "   'regions': [{'shape_attributes': {'name': 'rect',\n",
       "      'x': 284,\n",
       "      'y': 27,\n",
       "      'width': 365,\n",
       "      'height': 478},\n",
       "     'region_attributes': {'class': {'dog': True}}}],\n",
       "   'file_attributes': {}},\n",
       "  '2.jpeg4669': {'filename': '2.jpeg',\n",
       "   'size': 4669,\n",
       "   'regions': [{'shape_attributes': {'name': 'rect',\n",
       "      'x': 6,\n",
       "      'y': 39,\n",
       "      'width': 150,\n",
       "      'height': 107},\n",
       "     'region_attributes': {'class': {'dog': True}}},\n",
       "    {'shape_attributes': {'name': 'rect',\n",
       "      'x': 160,\n",
       "      'y': 77,\n",
       "      'width': 99,\n",
       "      'height': 65},\n",
       "     'region_attributes': {'class': {'cat': True}}}],\n",
       "   'file_attributes': {}},\n",
       "  '3.jpeg6828': {'filename': '3.jpeg',\n",
       "   'size': 6828,\n",
       "   'regions': [{'shape_attributes': {'name': 'rect',\n",
       "      'x': 57,\n",
       "      'y': 3,\n",
       "      'width': 186,\n",
       "      'height': 141},\n",
       "     'region_attributes': {'class': {'cat': True}}}],\n",
       "   'file_attributes': {}},\n",
       "  '4.jpeg198685': {'filename': '4.jpeg',\n",
       "   'size': 198685,\n",
       "   'regions': [{'shape_attributes': {'name': 'rect',\n",
       "      'x': 85,\n",
       "      'y': 307,\n",
       "      'width': 830,\n",
       "      'height': 1442},\n",
       "     'region_attributes': {'class': {'cat': True}}}],\n",
       "   'file_attributes': {}},\n",
       "  '5.jpeg54509': {'filename': '5.jpeg',\n",
       "   'size': 54509,\n",
       "   'regions': [{'shape_attributes': {'name': 'rect',\n",
       "      'x': 33,\n",
       "      'y': 65,\n",
       "      'width': 735,\n",
       "      'height': 738},\n",
       "     'region_attributes': {'class': {'dog': True}}}],\n",
       "   'file_attributes': {}},\n",
       "  '6.jpeg60092': {'filename': '6.jpeg',\n",
       "   'size': 60092,\n",
       "   'regions': [{'shape_attributes': {'name': 'rect',\n",
       "      'x': 89,\n",
       "      'y': 55,\n",
       "      'width': 140,\n",
       "      'height': 190},\n",
       "     'region_attributes': {'class': {'dog': True}}},\n",
       "    {'shape_attributes': {'name': 'rect',\n",
       "      'x': 242,\n",
       "      'y': 142,\n",
       "      'width': 167,\n",
       "      'height': 115},\n",
       "     'region_attributes': {'class': {'cat': True}}}],\n",
       "   'file_attributes': {}},\n",
       "  '7.jpeg394361': {'filename': '7.jpeg',\n",
       "   'size': 394361,\n",
       "   'regions': [{'shape_attributes': {'name': 'rect',\n",
       "      'x': 612,\n",
       "      'y': 192,\n",
       "      'width': 269,\n",
       "      'height': 234},\n",
       "     'region_attributes': {'class': {'dog': True}}},\n",
       "    {'shape_attributes': {'name': 'rect',\n",
       "      'x': 321,\n",
       "      'y': 252,\n",
       "      'width': 267,\n",
       "      'height': 162},\n",
       "     'region_attributes': {'class': {'cat': True}}}],\n",
       "   'file_attributes': {}}},\n",
       " '_via_attributes': {'region': {'class': {'type': 'checkbox',\n",
       "    'description': '',\n",
       "    'options': {'\"\"': '', 'cat': '', 'dog': ''},\n",
       "    'default_options': {}}},\n",
       "  'file': {}}}"
      ]
     },
     "execution_count": 4,
     "metadata": {},
     "output_type": "execute_result"
    }
   ],
   "source": [
    "vgg_annotation_data"
   ]
  },
  {
   "cell_type": "markdown",
   "id": "4d28fd51",
   "metadata": {},
   "source": [
    "**Yolo Format** >>> **object-class  x  y  width  height**"
   ]
  },
  {
   "cell_type": "code",
   "execution_count": 14,
   "id": "77c2e9cc",
   "metadata": {},
   "outputs": [],
   "source": [
    "if not os.path.exists('Yolo_Format_convertion'):\n",
    "    os.makedirs('Yolo_Format_convertion')"
   ]
  },
  {
   "cell_type": "code",
   "execution_count": 25,
   "id": "89872790",
   "metadata": {},
   "outputs": [],
   "source": [
    "#define classes of given dataset and also mention in given vgg file\n",
    "classes = ['cat', 'dog']\n",
    "\n",
    "\n",
    "for img_key, img_values in vgg_annotation_data['_via_img_metadata'].items():\n",
    "\n",
    "    img_filename = img_values['filename']\n",
    "    image = cv2.imread(img_filename)\n",
    "    \n",
    "    #get the height and width of image from image.shap as first two values are height and width\n",
    "    height, width = image.shape[:2]\n",
    "    \n",
    "    \n",
    "      \n",
    "    for region in img_values['regions']:\n",
    "        #get the labels of given classes in dataset\n",
    "        class_label = list(region['region_attributes']['class'])[0]\n",
    "        \n",
    "        #get the coordinates(x,y,h,w) , as x ,y got by gaining the center of them\n",
    "        x = region[\"shape_attributes\"][\"x\"] + region[\"shape_attributes\"][\"width\"] / 2\n",
    "        y = region[\"shape_attributes\"][\"y\"] + region[\"shape_attributes\"][\"height\"] / 2\n",
    "        w = region[\"shape_attributes\"][\"width\"]\n",
    "        h = region[\"shape_attributes\"][\"height\"]\n",
    "\n",
    "        # Convert the coordinates to the YOLO format as values between 0 to 1\n",
    "        x /= width\n",
    "        y /= height\n",
    "        w /= width\n",
    "        h /= height\n",
    "        \n",
    "        with open(os.path.join('Yolo_Format_convertion', os.path.splitext(img_filename)[0] + '.txt'), 'a') as files:\n",
    "\n",
    "            class_index = classes.index(class_label)\n",
    "            files.write(f\"{class_index} {x} {y} {h} {w}\\n\")"
   ]
  },
  {
   "cell_type": "code",
   "execution_count": 33,
   "id": "c83752d8",
   "metadata": {},
   "outputs": [
    {
     "name": "stdout",
     "output_type": "stream",
     "text": [
      "1 0.7465 0.5202020202020202 0.3939393939393939 0.269\n",
      "0 0.4545 0.5606060606060606 0.2727272727272727 0.267\n",
      "\n"
     ]
    }
   ],
   "source": [
    "with open(r'C:\\Users\\Abdul Manan\\Documents\\PF_training\\computer_vision_tasks\\cat_dog\\yolo\\Yolo_Format_convertion\\7.txt') as f:\n",
    "    contents = f.read()\n",
    "    print(contents)"
   ]
  },
  {
   "cell_type": "code",
   "execution_count": null,
   "id": "21ac6b1c",
   "metadata": {},
   "outputs": [],
   "source": []
  }
 ],
 "metadata": {
  "kernelspec": {
   "display_name": "Python [conda env:our] *",
   "language": "python",
   "name": "conda-env-our-py"
  },
  "language_info": {
   "codemirror_mode": {
    "name": "ipython",
    "version": 3
   },
   "file_extension": ".py",
   "mimetype": "text/x-python",
   "name": "python",
   "nbconvert_exporter": "python",
   "pygments_lexer": "ipython3",
   "version": "3.6.8"
  }
 },
 "nbformat": 4,
 "nbformat_minor": 5
}
