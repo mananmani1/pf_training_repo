{
 "cells": [
  {
   "cell_type": "markdown",
   "id": "4fbf9851",
   "metadata": {},
   "source": [
    "                      **_______________ Make Prediction via Keras _______________**"
   ]
  },
  {
   "cell_type": "markdown",
   "id": "7f151c4f",
   "metadata": {},
   "source": [
    "##### Import Required Dependencies"
   ]
  },
  {
   "cell_type": "code",
   "execution_count": 35,
   "id": "c7163845",
   "metadata": {},
   "outputs": [],
   "source": [
    "import keras \n",
    "from keras.datasets import mnist \n",
    "from keras.models import Sequential \n",
    "from keras.layers import Dense, Dropout, Flatten \n",
    "from keras.layers import Conv2D, MaxPooling2D \n",
    "from keras import backend as K \n",
    "import numpy as np"
   ]
  },
  {
   "cell_type": "markdown",
   "id": "13acd8ad",
   "metadata": {},
   "source": [
    "#### Loading the Dataset"
   ]
  },
  {
   "cell_type": "code",
   "execution_count": 36,
   "id": "f1efe6d2",
   "metadata": {},
   "outputs": [],
   "source": [
    "(x_train, y_train), (x_test, y_test) = mnist.load_data()"
   ]
  },
  {
   "cell_type": "markdown",
   "id": "40a65a96",
   "metadata": {},
   "source": [
    "#### Change the dataset according to our model"
   ]
  },
  {
   "cell_type": "code",
   "execution_count": 37,
   "id": "14707ce7",
   "metadata": {},
   "outputs": [],
   "source": [
    "img_rows, img_cols = 28, 28 \n",
    "\n",
    "#Channels First. Image data is represented in a three-dimensional array where the first channel represents the color channels, \n",
    "#e.g. [channels][rows][cols].\n",
    "if K.image_data_format() == 'channels_first': \n",
    "   x_train = x_train.reshape(x_train.shape[0], 1, img_rows, img_cols) \n",
    "   x_test = x_test.reshape(x_test.shape[0], 1, img_rows, img_cols) \n",
    "   input_shape = (1, img_rows, img_cols) \n",
    "else: \n",
    "   x_train = x_train.reshape(x_train.shape[0], img_rows, img_cols, 1) \n",
    "   x_test = x_test.reshape(x_test.shape[0], img_rows, img_cols, 1) \n",
    "   input_shape = (img_rows, img_cols, 1) \n"
   ]
  },
  {
   "cell_type": "markdown",
   "id": "63c97bbb",
   "metadata": {},
   "source": [
    "##### splitting the data into training,test and labels"
   ]
  },
  {
   "cell_type": "code",
   "execution_count": 38,
   "id": "5fab5a46",
   "metadata": {},
   "outputs": [],
   "source": [
    "x_train = x_train.astype('float32') \n",
    "x_test = x_test.astype('float32') \n",
    "\n",
    "#interval(0-1)\n",
    "x_train /= 255 \n",
    "x_test /= 255 \n",
    "\n",
    "#labels\n",
    "y_train = keras.utils.to_categorical(y_train, 10) \n",
    "y_test = keras.utils.to_categorical(y_test, 10)"
   ]
  },
  {
   "cell_type": "code",
   "execution_count": 39,
   "id": "9c0ae93c",
   "metadata": {},
   "outputs": [
    {
     "name": "stdout",
     "output_type": "stream",
     "text": [
      "Y_test Label: [0. 0. 0. 0. 0. 0. 0. 1. 0. 0.]\n",
      "Y_train Label: [0. 0. 0. 0. 0. 1. 0. 0. 0. 0.]\n",
      "(60000, 28, 28, 1)\n",
      "(10000, 28, 28, 1)\n"
     ]
    }
   ],
   "source": [
    "print('Y_test Label:',y_test[0])\n",
    "print('Y_train Label:',y_train[0])\n",
    "print(x_train.shape)\n",
    "print(x_test.shape)"
   ]
  },
  {
   "cell_type": "markdown",
   "id": "42be820f",
   "metadata": {},
   "source": [
    "#### Creating model and adding layers"
   ]
  },
  {
   "cell_type": "code",
   "execution_count": 23,
   "id": "eb24beed",
   "metadata": {},
   "outputs": [],
   "source": [
    "model = Sequential()"
   ]
  },
  {
   "cell_type": "markdown",
   "id": "b26809be",
   "metadata": {},
   "source": [
    "#### Neural Network"
   ]
  },
  {
   "cell_type": "code",
   "execution_count": 24,
   "id": "bb8a4894",
   "metadata": {},
   "outputs": [],
   "source": [
    "model.add(Conv2D(32, kernel_size = (3, 3),activation = 'relu', input_shape = input_shape)) \n",
    "model.add(Conv2D(64, (3, 3), activation = 'relu')) \n",
    "model.add(MaxPooling2D(pool_size = (2, 2))) \n",
    "model.add(Dropout(0.25))\n",
    "model.add(Flatten()) \n",
    "model.add(Dense(128, activation = 'relu')) \n",
    "model.add(Dropout(0.5)) \n",
    "model.add(Dense(10, activation = 'softmax'))"
   ]
  },
  {
   "cell_type": "markdown",
   "id": "bf52875d",
   "metadata": {},
   "source": [
    "#### Compile the Model\n",
    "##### .loss function, optimizer and metrics."
   ]
  },
  {
   "cell_type": "code",
   "execution_count": 25,
   "id": "9bb6bb13",
   "metadata": {},
   "outputs": [],
   "source": [
    "model.compile(loss = keras.losses.categorical_crossentropy, \n",
    "   optimizer = keras.optimizers.Adadelta(), metrics = ['accuracy'])"
   ]
  },
  {
   "cell_type": "markdown",
   "id": "58571e34",
   "metadata": {},
   "source": [
    "#### Fit The Model"
   ]
  },
  {
   "cell_type": "code",
   "execution_count": 17,
   "id": "ddb1446d",
   "metadata": {},
   "outputs": [
    {
     "name": "stdout",
     "output_type": "stream",
     "text": [
      "Train on 60000 samples, validate on 10000 samples\n",
      "Epoch 1/5\n",
      "60000/60000 [==============================] - 232s - loss: 0.1299 - acc: 0.9627 - val_loss: 0.0558 - val_acc: 0.9813\n",
      "Epoch 2/5\n",
      "60000/60000 [==============================] - 224s - loss: 0.0908 - acc: 0.9734 - val_loss: 0.0476 - val_acc: 0.9840\n",
      "Epoch 3/5\n",
      "60000/60000 [==============================] - 223s - loss: 0.0777 - acc: 0.9775 - val_loss: 0.0419 - val_acc: 0.9872\n",
      "Epoch 4/5\n",
      "60000/60000 [==============================] - 224s - loss: 0.0660 - acc: 0.9805 - val_loss: 0.0367 - val_acc: 0.9882\n",
      "Epoch 5/5\n",
      "60000/60000 [==============================] - 222s - loss: 0.0599 - acc: 0.9820 - val_loss: 0.0354 - val_acc: 0.9882\n"
     ]
    },
    {
     "data": {
      "text/plain": [
       "<keras.callbacks.History at 0x15cd2fef048>"
      ]
     },
     "execution_count": 17,
     "metadata": {},
     "output_type": "execute_result"
    }
   ],
   "source": [
    "model.fit(\n",
    "   x_train, y_train, \n",
    "   batch_size = 128, \n",
    "   epochs = 5, \n",
    "   verbose = 1, \n",
    "   validation_data = (x_test, y_test)\n",
    ")"
   ]
  },
  {
   "cell_type": "markdown",
   "id": "7dae7474",
   "metadata": {},
   "source": [
    "#### loss and Score"
   ]
  },
  {
   "cell_type": "code",
   "execution_count": 18,
   "id": "2a5aebcf",
   "metadata": {},
   "outputs": [
    {
     "name": "stdout",
     "output_type": "stream",
     "text": [
      "Test loss: 0.03538070862822933\n",
      "Test accuracy: 0.9882\n"
     ]
    }
   ],
   "source": [
    "score = model.evaluate(x_test, y_test, verbose = 0) \n",
    "\n",
    "print('Test loss:', score[0]) \n",
    "print('Test accuracy:', score[1])"
   ]
  },
  {
   "cell_type": "markdown",
   "id": "5c52428f",
   "metadata": {},
   "source": [
    "#### Prediction "
   ]
  },
  {
   "cell_type": "code",
   "execution_count": 19,
   "id": "7422d76e",
   "metadata": {},
   "outputs": [
    {
     "name": "stdout",
     "output_type": "stream",
     "text": [
      "[7 2 1 0 4]\n",
      "[7 2 1 0 4]\n"
     ]
    }
   ],
   "source": [
    "pred = model.predict(x_test) \n",
    "pred = np.argmax(pred, axis = 1)[:5] \n",
    "label = np.argmax(y_test,axis = 1)[:5] \n",
    "\n",
    "print(pred) \n",
    "print(label)"
   ]
  },
  {
   "cell_type": "markdown",
   "id": "e82b1cbb",
   "metadata": {},
   "source": [
    "The output of both array is identical and it indicate our model correctly predicts the first five images(labels)."
   ]
  },
  {
   "cell_type": "code",
   "execution_count": null,
   "id": "8147e3b0",
   "metadata": {},
   "outputs": [],
   "source": []
  }
 ],
 "metadata": {
  "kernelspec": {
   "display_name": "Python [conda env:our] *",
   "language": "python",
   "name": "conda-env-our-py"
  },
  "language_info": {
   "codemirror_mode": {
    "name": "ipython",
    "version": 3
   },
   "file_extension": ".py",
   "mimetype": "text/x-python",
   "name": "python",
   "nbconvert_exporter": "python",
   "pygments_lexer": "ipython3",
   "version": "3.6.8"
  }
 },
 "nbformat": 4,
 "nbformat_minor": 5
}
