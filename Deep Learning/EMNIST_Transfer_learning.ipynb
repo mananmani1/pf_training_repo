{
  "nbformat": 4,
  "nbformat_minor": 0,
  "metadata": {
    "colab": {
      "provenance": []
    },
    "kernelspec": {
      "name": "python3",
      "display_name": "Python 3"
    },
    "language_info": {
      "name": "python"
    }
  },
  "cells": [
    {
      "cell_type": "markdown",
      "source": [
        "**Import Dependencies**"
      ],
      "metadata": {
        "id": "rSHcMQyttI7t"
      }
    },
    {
      "cell_type": "code",
      "source": [
        "from tensorflow.keras.datasets import mnist\n",
        "from tensorflow.keras.utils import to_categorical\n",
        "from tensorflow.keras.models import Sequential\n",
        "from tensorflow.keras.layers import Conv2D\n",
        "from tensorflow.keras.layers import MaxPooling2D\n",
        "from tensorflow.keras.layers import Dense\n",
        "from tensorflow.keras.layers import Flatten\n",
        "from tensorflow.keras.optimizers import SGD\n",
        "from numpy import argmax\n",
        "from tensorflow.keras.utils import load_img\n",
        "from tensorflow.keras.utils import img_to_array\n",
        "from keras.models import load_model\n",
        "from matplotlib import pyplot as plt\n",
        "from PIL import Image\n",
        "from emnist import list_datasets\n",
        "from emnist import extract_test_samples\n",
        "\n"
      ],
      "metadata": {
        "id": "Ew2jKioebEBz"
      },
      "execution_count": 42,
      "outputs": []
    },
    {
      "cell_type": "markdown",
      "source": [
        " **Emnist Digit Dataset**"
      ],
      "metadata": {
        "id": "_QkuEaUfDpn-"
      }
    },
    {
      "cell_type": "code",
      "source": [
        "list_datasets()"
      ],
      "metadata": {
        "colab": {
          "base_uri": "https://localhost:8080/"
        },
        "id": "F3BGd1Dy1w0x",
        "outputId": "17a539f9-578d-411a-8250-9406e531a35a"
      },
      "execution_count": 43,
      "outputs": [
        {
          "output_type": "execute_result",
          "data": {
            "text/plain": [
              "['balanced', 'byclass', 'bymerge', 'digits', 'letters', 'mnist']"
            ]
          },
          "metadata": {},
          "execution_count": 43
        }
      ]
    },
    {
      "cell_type": "code",
      "source": [
        "images, labels = extract_training_samples('digits')\n",
        "images.shape"
      ],
      "metadata": {
        "colab": {
          "base_uri": "https://localhost:8080/"
        },
        "id": "czAFAJoW1RL2",
        "outputId": "06905a87-5457-4835-a05e-425828eacc25"
      },
      "execution_count": 44,
      "outputs": [
        {
          "output_type": "execute_result",
          "data": {
            "text/plain": [
              "(240000, 28, 28)"
            ]
          },
          "metadata": {},
          "execution_count": 44
        }
      ]
    },
    {
      "cell_type": "code",
      "execution_count": 49,
      "metadata": {
        "id": "DeaQEmKCY6vN"
      },
      "outputs": [],
      "source": [
        "# load train and test dataset of emnist dataset\n",
        "def load_dataset():\n",
        " trainX, trainY = extract_training_samples('digits')\n",
        " testX, testY = extract_test_samples('digits')\n",
        " # reshape dataset to have a single channel as for grayscale image\n",
        " trainX = trainX.reshape((trainX.shape[0], 28, 28, 1))\n",
        " testX = testX.reshape((testX.shape[0], 28, 28, 1))\n",
        " #  target values\n",
        " trainY = to_categorical(trainY)\n",
        " testY = to_categorical(testY)\n",
        " return trainX, trainY, testX, testY\n"
      ]
    },
    {
      "cell_type": "markdown",
      "source": [
        "**Data Preprocessing**"
      ],
      "metadata": {
        "id": "0z0OPVcFtTnL"
      }
    },
    {
      "cell_type": "code",
      "source": [
        "def prep_pixels(train, test):\n",
        " # convert from integers to floats\n",
        " train_norm = train.astype('float32')\n",
        " test_norm = test.astype('float32')\n",
        " # normalize to range 0-1\n",
        " train_norm = train_norm / 255.0\n",
        " test_norm = test_norm / 255.0\n",
        " return train_norm, test_norm"
      ],
      "metadata": {
        "id": "sIsnmjRGfh7U"
      },
      "execution_count": 50,
      "outputs": []
    },
    {
      "cell_type": "markdown",
      "source": [
        "**Load weights of Pre Trained Model and Evaluation**"
      ],
      "metadata": {
        "id": "d4KwumE6tfzp"
      }
    },
    {
      "cell_type": "code",
      "source": [
        "def check_accuracy():\n",
        "  trainX, trainY, testX, testY = load_dataset()\n",
        "  trainX, testX = prep_pixels(trainX, testX)\n",
        "  model = load_model('my_trained_model.h5')\n",
        "  loss, acc = model.evaluate(testX, testY, verbose=0)\n",
        "\n",
        "  #Check Loss and Accuracy\n",
        "  print('Test Loss: %.3f' % loss)\n",
        "  print('Test Accuracy: %.3f' % (acc * 100.0))\n",
        "\n",
        " \n",
        "check_accuracy()\n",
        "     "
      ],
      "metadata": {
        "colab": {
          "base_uri": "https://localhost:8080/"
        },
        "id": "f8-uONLgrT90",
        "outputId": "3bbee928-aa83-4793-e27f-63fdaaecb551"
      },
      "execution_count": 51,
      "outputs": [
        {
          "output_type": "stream",
          "name": "stdout",
          "text": [
            "Test Loss: 0.280\n",
            "Test Accuracy: 93.260\n"
          ]
        }
      ]
    },
    {
      "cell_type": "markdown",
      "source": [
        "**Input Image**"
      ],
      "metadata": {
        "id": "MGQcgVv9uvvG"
      }
    },
    {
      "cell_type": "code",
      "source": [
        "def load_image(filename):\n",
        " img = load_img(filename, grayscale=True, target_size=(28, 28))\n",
        " # convert to array\n",
        " img = img_to_array(img)\n",
        " # reshape into a single sample with 1 channel as for grayscale image\n",
        " img = img.reshape(1, 28, 28, 1)\n",
        " # prepare pixel data\n",
        " img = img.astype('float32')\n",
        " img = img / 255.0\n",
        " return img"
      ],
      "metadata": {
        "id": "WdYg6SZMeCR7"
      },
      "execution_count": 52,
      "outputs": []
    },
    {
      "cell_type": "code",
      "source": [
        "# show the mnist image for test purpose as I have downloaded in my machine\n",
        "image = Image.open('emnist_8.png')\n",
        "image.show()"
      ],
      "metadata": {
        "colab": {
          "base_uri": "https://localhost:8080/",
          "height": 406
        },
        "id": "JEzSDPFbeCVd",
        "outputId": "ca8853ad-99f1-4f08-b11f-47feb0266bed"
      },
      "execution_count": 58,
      "outputs": [
        {
          "output_type": "display_data",
          "data": {
            "text/plain": [
              "<PIL.PngImagePlugin.PngImageFile image mode=RGBA size=389x389 at 0x7F687587B1F0>"
            ],
            "image/png": "[encoded data removed]"
          },
          "metadata": {}
        }
      ]
    },
    {
      "cell_type": "markdown",
      "source": [
        "**Prediction**"
      ],
      "metadata": {
        "id": "XjlzNqfDufPF"
      }
    },
    {
      "cell_type": "code",
      "source": [
        "# load an image and predict the class\n",
        "def run_example():\n",
        " img = load_image('emnist_8.png')\n",
        " # load model\n",
        " model = load_model('my_trained_model.h5')\n",
        " # predict the class\n",
        " predict_value = model.predict(img)\n",
        " digit = argmax(predict_value)\n",
        " print(digit)\n",
        " \n",
        "run_example()"
      ],
      "metadata": {
        "colab": {
          "base_uri": "https://localhost:8080/"
        },
        "id": "4Myde0e9baBM",
        "outputId": "b13a8c57-8638-478f-c6d9-7aadc7fb69d0"
      },
      "execution_count": 60,
      "outputs": [
        {
          "output_type": "stream",
          "name": "stdout",
          "text": [
            "1/1 [==============================] - 0s 86ms/step\n",
            "8\n"
          ]
        }
      ]
    },
    {
      "cell_type": "markdown",
      "source": [
        "*Hence our pretrained model's weights over mnist digit dataset perform transfer learning over emnist digit very well*"
      ],
      "metadata": {
        "id": "ULWUZHvSFPHi"
      }
    },
    {
      "cell_type": "code",
      "source": [],
      "metadata": {
        "id": "FHY5LpuKFULa"
      },
      "execution_count": null,
      "outputs": []
    }
  ]
}