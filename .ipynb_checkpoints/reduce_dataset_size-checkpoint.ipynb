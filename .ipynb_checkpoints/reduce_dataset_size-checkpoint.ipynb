{
 "cells": [
  {
   "cell_type": "code",
   "execution_count": 1,
   "metadata": {},
   "outputs": [
    {
     "name": "stderr",
     "output_type": "stream",
     "text": [
      "Using TensorFlow backend.\n",
      "C:\\Users\\Madina Computers\\anaconda3\\envs\\our\\lib\\site-packages\\tensorflow\\python\\framework\\dtypes.py:458: FutureWarning: Passing (type, 1) or '1type' as a synonym of type is deprecated; in a future version of numpy, it will be understood as (type, (1,)) / '(1,)type'.\n",
      "  _np_qint8 = np.dtype([(\"qint8\", np.int8, 1)])\n",
      "C:\\Users\\Madina Computers\\anaconda3\\envs\\our\\lib\\site-packages\\tensorflow\\python\\framework\\dtypes.py:459: FutureWarning: Passing (type, 1) or '1type' as a synonym of type is deprecated; in a future version of numpy, it will be understood as (type, (1,)) / '(1,)type'.\n",
      "  _np_quint8 = np.dtype([(\"quint8\", np.uint8, 1)])\n",
      "C:\\Users\\Madina Computers\\anaconda3\\envs\\our\\lib\\site-packages\\tensorflow\\python\\framework\\dtypes.py:460: FutureWarning: Passing (type, 1) or '1type' as a synonym of type is deprecated; in a future version of numpy, it will be understood as (type, (1,)) / '(1,)type'.\n",
      "  _np_qint16 = np.dtype([(\"qint16\", np.int16, 1)])\n",
      "C:\\Users\\Madina Computers\\anaconda3\\envs\\our\\lib\\site-packages\\tensorflow\\python\\framework\\dtypes.py:461: FutureWarning: Passing (type, 1) or '1type' as a synonym of type is deprecated; in a future version of numpy, it will be understood as (type, (1,)) / '(1,)type'.\n",
      "  _np_quint16 = np.dtype([(\"quint16\", np.uint16, 1)])\n",
      "C:\\Users\\Madina Computers\\anaconda3\\envs\\our\\lib\\site-packages\\tensorflow\\python\\framework\\dtypes.py:462: FutureWarning: Passing (type, 1) or '1type' as a synonym of type is deprecated; in a future version of numpy, it will be understood as (type, (1,)) / '(1,)type'.\n",
      "  _np_qint32 = np.dtype([(\"qint32\", np.int32, 1)])\n",
      "C:\\Users\\Madina Computers\\anaconda3\\envs\\our\\lib\\site-packages\\tensorflow\\python\\framework\\dtypes.py:465: FutureWarning: Passing (type, 1) or '1type' as a synonym of type is deprecated; in a future version of numpy, it will be understood as (type, (1,)) / '(1,)type'.\n",
      "  np_resource = np.dtype([(\"resource\", np.ubyte, 1)])\n"
     ]
    }
   ],
   "source": [
    "import keras\n",
    "import random\n",
    "import collections\n",
    "import numpy as np\n",
    "import matplotlib.pyplot as plt"
   ]
  },
  {
   "cell_type": "code",
   "execution_count": 2,
   "metadata": {},
   "outputs": [],
   "source": [
    "def display_random_images_with_labels(d, n=10):\n",
    "    \"\"\"\n",
    "        accept dataset in tuple form, first index\n",
    "        is np arrays (images) and second is labels\n",
    "        and display n random images with labels\n",
    "        from it\n",
    "        Inputs:\n",
    "            d (tuple): dataset images, dataset labels on same indexs\n",
    "            n (int): number of samples to display (default: 10)\n",
    "        Output:\n",
    "            None\n",
    "    \"\"\"\n",
    "    choices = list(range(len(d[0])))\n",
    "    for i in range(n):\n",
    "        index = random.choice(choices)\n",
    "        choices.remove(index)\n",
    "        print(\"index:\",index)\n",
    "        print(\"Lable:\",d[1][index])\n",
    "        plt.imshow(d[0][index], cmap='gray')\n",
    "        plt.show()\n",
    "# display_random_images_with_labels(choices)"
   ]
  },
  {
   "cell_type": "markdown",
   "metadata": {},
   "source": [
    "# Dataset"
   ]
  },
  {
   "cell_type": "code",
   "execution_count": 3,
   "metadata": {},
   "outputs": [
    {
     "name": "stdout",
     "output_type": "stream",
     "text": [
      "There are 60000 images in training dataset\n",
      "There are 10000 images in training dataset\n",
      "___________________\n",
      "\n",
      "\n",
      "Randomly printing 10 images with labels from training dataset\n",
      "index: 6514\n",
      "Lable: 9\n"
     ]
    },
    {
     "data": {
      "image/png": "[encoded data removed]",
      "text/plain": [
       "<Figure size 432x288 with 1 Axes>"
      ]
     },
     "metadata": {
      "needs_background": "light"
     },
     "output_type": "display_data"
    },
    {
     "name": "stdout",
     "output_type": "stream",
     "text": [
      "index: 7516\n",
      "Lable: 6\n"
     ]
    },
    {
     "data": {
      "image/png": "[encoded data removed]",
      "text/plain": [
       "<Figure size 432x288 with 1 Axes>"
      ]
     },
     "metadata": {
      "needs_background": "light"
     },
     "output_type": "display_data"
    },
    {
     "name": "stdout",
     "output_type": "stream",
     "text": [
      "index: 24528\n",
      "Lable: 3\n"
     ]
    },
    {
     "data": {
      "image/png": "[encoded data removed]",
      "text/plain": [
       "<Figure size 432x288 with 1 Axes>"
      ]
     },
     "metadata": {
      "needs_background": "light"
     },
     "output_type": "display_data"
    },
    {
     "name": "stdout",
     "output_type": "stream",
     "text": [
      "index: 3576\n",
      "Lable: 3\n"
     ]
    },
    {
     "data": {
      "image/png": "[encoded data removed]",
      "text/plain": [
       "<Figure size 432x288 with 1 Axes>"
      ]
     },
     "metadata": {
      "needs_background": "light"
     },
     "output_type": "display_data"
    },
    {
     "name": "stdout",
     "output_type": "stream",
     "text": [
      "index: 49730\n",
      "Lable: 9\n"
     ]
    },
    {
     "data": {
      "image/png": "[encoded data removed]",
      "text/plain": [
       "<Figure size 432x288 with 1 Axes>"
      ]
     },
     "metadata": {
      "needs_background": "light"
     },
     "output_type": "display_data"
    },
    {
     "name": "stdout",
     "output_type": "stream",
     "text": [
      "index: 32057\n",
      "Lable: 2\n"
     ]
    },
    {
     "data": {
      "image/png": "[encoded data removed]",
      "text/plain": [
       "<Figure size 432x288 with 1 Axes>"
      ]
     },
     "metadata": {
      "needs_background": "light"
     },
     "output_type": "display_data"
    },
    {
     "name": "stdout",
     "output_type": "stream",
     "text": [
      "index: 28416\n",
      "Lable: 9\n"
     ]
    },
    {
     "data": {
      "image/png": "[encoded data removed]",
      "text/plain": [
       "<Figure size 432x288 with 1 Axes>"
      ]
     },
     "metadata": {
      "needs_background": "light"
     },
     "output_type": "display_data"
    },
    {
     "name": "stdout",
     "output_type": "stream",
     "text": [
      "index: 46518\n",
      "Lable: 1\n"
     ]
    },
    {
     "data": {
      "image/png": "[encoded data removed]",
      "text/plain": [
       "<Figure size 432x288 with 1 Axes>"
      ]
     },
     "metadata": {
      "needs_background": "light"
     },
     "output_type": "display_data"
    },
    {
     "name": "stdout",
     "output_type": "stream",
     "text": [
      "index: 56453\n",
      "Lable: 7\n"
     ]
    },
    {
     "data": {
      "image/png": "[encoded data removed]",
      "text/plain": [
       "<Figure size 432x288 with 1 Axes>"
      ]
     },
     "metadata": {
      "needs_background": "light"
     },
     "output_type": "display_data"
    },
    {
     "name": "stdout",
     "output_type": "stream",
     "text": [
      "index: 14945\n",
      "Lable: 1\n"
     ]
    },
    {
     "data": {
      "image/png": "[encoded data removed]",
      "text/plain": [
       "<Figure size 432x288 with 1 Axes>"
      ]
     },
     "metadata": {
      "needs_background": "light"
     },
     "output_type": "display_data"
    },
    {
     "name": "stdout",
     "output_type": "stream",
     "text": [
      "___________________\n",
      "\n",
      "\n",
      "Randomly printing 10 images with labels from testing dataset\n",
      "index: 44587\n",
      "Lable: 4\n"
     ]
    },
    {
     "data": {
      "image/png": "[encoded data removed]",
      "text/plain": [
       "<Figure size 432x288 with 1 Axes>"
      ]
     },
     "metadata": {
      "needs_background": "light"
     },
     "output_type": "display_data"
    },
    {
     "name": "stdout",
     "output_type": "stream",
     "text": [
      "index: 29479\n",
      "Lable: 1\n"
     ]
    },
    {
     "data": {
      "image/png": "[encoded data removed]",
      "text/plain": [
       "<Figure size 432x288 with 1 Axes>"
      ]
     },
     "metadata": {
      "needs_background": "light"
     },
     "output_type": "display_data"
    },
    {
     "name": "stdout",
     "output_type": "stream",
     "text": [
      "index: 17146\n",
      "Lable: 3\n"
     ]
    },
    {
     "data": {
      "image/png": "[encoded data removed]",
      "text/plain": [
       "<Figure size 432x288 with 1 Axes>"
      ]
     },
     "metadata": {
      "needs_background": "light"
     },
     "output_type": "display_data"
    },
    {
     "name": "stdout",
     "output_type": "stream",
     "text": [
      "index: 2550\n",
      "Lable: 2\n"
     ]
    },
    {
     "data": {
      "image/png": "[encoded data removed]",
      "text/plain": [
       "<Figure size 432x288 with 1 Axes>"
      ]
     },
     "metadata": {
      "needs_background": "light"
     },
     "output_type": "display_data"
    },
    {
     "name": "stdout",
     "output_type": "stream",
     "text": [
      "index: 58933\n",
      "Lable: 8\n"
     ]
    },
    {
     "data": {
      "image/png": "[encoded data removed]",
      "text/plain": [
       "<Figure size 432x288 with 1 Axes>"
      ]
     },
     "metadata": {
      "needs_background": "light"
     },
     "output_type": "display_data"
    },
    {
     "name": "stdout",
     "output_type": "stream",
     "text": [
      "index: 42407\n",
      "Lable: 5\n"
     ]
    },
    {
     "data": {
      "image/png": "[encoded data removed]",
      "text/plain": [
       "<Figure size 432x288 with 1 Axes>"
      ]
     },
     "metadata": {
      "needs_background": "light"
     },
     "output_type": "display_data"
    },
    {
     "name": "stdout",
     "output_type": "stream",
     "text": [
      "index: 33011\n",
      "Lable: 4\n"
     ]
    },
    {
     "data": {
      "image/png": "[encoded data removed]",
      "text/plain": [
       "<Figure size 432x288 with 1 Axes>"
      ]
     },
     "metadata": {
      "needs_background": "light"
     },
     "output_type": "display_data"
    },
    {
     "name": "stdout",
     "output_type": "stream",
     "text": [
      "index: 7115\n",
      "Lable: 8\n"
     ]
    },
    {
     "data": {
      "image/png": "[encoded data removed]",
      "text/plain": [
       "<Figure size 432x288 with 1 Axes>"
      ]
     },
     "metadata": {
      "needs_background": "light"
     },
     "output_type": "display_data"
    },
    {
     "name": "stdout",
     "output_type": "stream",
     "text": [
      "index: 50558\n",
      "Lable: 9\n"
     ]
    },
    {
     "data": {
      "image/png": "[encoded data removed]",
      "text/plain": [
       "<Figure size 432x288 with 1 Axes>"
      ]
     },
     "metadata": {
      "needs_background": "light"
     },
     "output_type": "display_data"
    },
    {
     "name": "stdout",
     "output_type": "stream",
     "text": [
      "index: 44164\n",
      "Lable: 5\n"
     ]
    },
    {
     "data": {
      "image/png": "[encoded data removed]",
      "text/plain": [
       "<Figure size 432x288 with 1 Axes>"
      ]
     },
     "metadata": {
      "needs_background": "light"
     },
     "output_type": "display_data"
    },
    {
     "name": "stdout",
     "output_type": "stream",
     "text": [
      "___________________\n",
      "\n",
      "\n",
      "There are 60000 labels in training dataset for 60000 images in training dataset\n",
      "There are 10000 labels in training dataset for 10000 images in training dataset\n",
      "___________________\n",
      "\n",
      "\n",
      "There are 10 unique classes in training dataset\n",
      "Breakdown of each labels is below (format: dict key is label, dict value is occurrence of that label/ number of images for that label)\n"
     ]
    },
    {
     "data": {
      "text/plain": [
       "Counter({5: 5421,\n",
       "         0: 5923,\n",
       "         4: 5842,\n",
       "         1: 6742,\n",
       "         9: 5949,\n",
       "         2: 5958,\n",
       "         3: 6131,\n",
       "         6: 5918,\n",
       "         7: 6265,\n",
       "         8: 5851})"
      ]
     },
     "metadata": {},
     "output_type": "display_data"
    },
    {
     "name": "stdout",
     "output_type": "stream",
     "text": [
      "There are 10 unique classes in validation dataset\n",
      "Breakdown of each labels is below (format: dict key is label, dict value is occurrence of that label/ number of images for that label)\n"
     ]
    },
    {
     "data": {
      "text/plain": [
       "Counter({7: 1028,\n",
       "         2: 1032,\n",
       "         1: 1135,\n",
       "         0: 980,\n",
       "         4: 982,\n",
       "         9: 1009,\n",
       "         5: 892,\n",
       "         6: 958,\n",
       "         3: 1010,\n",
       "         8: 974})"
      ]
     },
     "metadata": {},
     "output_type": "display_data"
    },
    {
     "name": "stdout",
     "output_type": "stream",
     "text": [
      "___________________\n",
      "\n",
      "\n"
     ]
    }
   ],
   "source": [
    "# Loading dataset\n",
    "dataset = keras.datasets.mnist.load_data()\n",
    "\n",
    "# Description of dataset\n",
    "\n",
    "# mnint is handwritten digits (0 to 9) images dataset\n",
    "# keras.datasets.mnist.load_data() loads those images in gray scale as cv2 images / np arrays\n",
    "# with those labels\n",
    "\n",
    "\n",
    "# dataset is in tuple form,\n",
    "# its first index dataset[0] represents training dataset\n",
    "# its second index dataset[1] represents testing dataset\n",
    "\n",
    "# Both training (dataset[0]) and testing (dataset[1]) datasets\n",
    "# are further tuples and have two elements,\n",
    "\n",
    "# first element of both training and testing (dataset[0][0] and dataset[1][0])\n",
    "# represnts images in numpy arrays\n",
    "print(\"There are\",len(dataset[0][0]),\"images in training dataset\")\n",
    "print(\"There are\",len(dataset[1][0]),\"images in training dataset\")\n",
    "print(\"___________________\\n\\n\")\n",
    "# Each image is of shape 28x28\n",
    "# print(dataset[0][0][0].shape)\n",
    "# print(\"___________________\")\n",
    "\n",
    "\n",
    "# second element of both training and testing (dataset[0][1] and dataset[0][1])\n",
    "# represnts labels of the images, presents on the same index in images\n",
    "# For example dataset[0][0][0] is an image in training dataset\n",
    "# and dataset[0][1][0] is the label of same image is training dataset\n",
    "print(\"Randomly printing 10 images with labels from training dataset\")\n",
    "display_random_images_with_labels(dataset[0])\n",
    "print(\"___________________\\n\\n\")\n",
    "print(\"Randomly printing 10 images with labels from testing dataset\")\n",
    "display_random_images_with_labels(dataset[0])\n",
    "print(\"___________________\\n\\n\")\n",
    "\n",
    "print(\"There are\",len(dataset[0][1]),\"labels in training dataset for\",len(dataset[0][0]),\"images in training dataset\")\n",
    "print(\"There are\",len(dataset[1][1]),\"labels in training dataset for\",len(dataset[1][0]),\"images in training dataset\")\n",
    "print(\"___________________\\n\\n\")\n",
    "\n",
    "print(\"There are\", len(set(dataset[0][1])),\"unique classes in training dataset\")\n",
    "print(\"Breakdown of each labels is below (format: dict key is label, dict value is occurrence of that label/ number of images for that label)\")\n",
    "display(collections.Counter(dataset[0][1]))\n",
    "print(\"There are\", len(set(dataset[1][1])),\"unique classes in validation dataset\")\n",
    "print(\"Breakdown of each labels is below (format: dict key is label, dict value is occurrence of that label/ number of images for that label)\")\n",
    "display(collections.Counter(dataset[1][1]))\n",
    "print(\"___________________\\n\\n\")\n",
    "\n",
    "\n",
    "\n"
   ]
  },
  {
   "cell_type": "markdown",
   "metadata": {},
   "source": [
    "# Task\n",
    "\n",
    "You have to reduce the size of this dataset by 10 times.\n",
    "\n",
    "There are currently almost 5000 to 6000 thousand images (total: 60000) for each label in training and almost 1000 images (total: 10000) for each label in testing dataset.\n",
    "\n",
    "You are required to reduce this training dataset so that it will have exactly 600 images for each label (total: 6000) in training dataset and exactly 100 images for each label in testing dataset (total: 1000)\n",
    "\n",
    "new dataset should be stored into new_dataset variable name and should have exactly same format as the original dataset.\n"
   ]
  },
  {
   "cell_type": "code",
   "execution_count": 18,
   "metadata": {},
   "outputs": [],
   "source": [
    "#your code\n",
    "tr_img = []\n",
    "tr_lbl = []\n",
    "ts_img = []\n",
    "ts_lbl = []\n",
    "for i in range(10):\n",
    "    tr_img.append(dataset[0][0][dataset[0][1]==i][:600])\n",
    "    tr_lbl.append(dataset[0][1][dataset[0][1]==i][:600])\n",
    "    ts_img.append(dataset[1][0][dataset[1][1]==i][:100])\n",
    "    ts_lbl.append(dataset[1][1][dataset[1][1]==i][:100])\n",
    "    \n",
    "new_dataset = ((np.concatenate(tr_img),np.concatenate(tr_lbl)),(np.concatenate(ts_img),np.concatenate(ts_lbl)))\n",
    "    \n",
    "    "
   ]
  },
  {
   "cell_type": "code",
   "execution_count": 24,
   "metadata": {},
   "outputs": [
    {
     "name": "stdout",
     "output_type": "stream",
     "text": [
      "There are 6000 labels in training dataset for 6000 images in training dataset\n",
      "There are 1000 labels in training dataset for 1000 images in training dataset\n",
      "___________________\n",
      "\n",
      "\n"
     ]
    }
   ],
   "source": [
    "print(\"There are\",len(new_dataset[0][1]),\"labels in training dataset for\",len(new_dataset[0][0]),\"images in training dataset\")\n",
    "print(\"There are\",len(new_dataset[1][1]),\"labels in training dataset for\",len(new_dataset[1][0]),\"images in training dataset\")\n",
    "print(\"___________________\\n\\n\")"
   ]
  },
  {
   "cell_type": "markdown",
   "metadata": {},
   "source": [
    "# Validation of Task"
   ]
  },
  {
   "cell_type": "code",
   "execution_count": 23,
   "metadata": {},
   "outputs": [
    {
     "name": "stdout",
     "output_type": "stream",
     "text": [
      "(28, 28)\n",
      "___________________\n",
      "There are 6000 labels in training dataset for 6000 images in training dataset\n",
      "There are 1000 labels in training dataset for 1000 images in training dataset\n",
      "___________________\n",
      "\n",
      "\n",
      "There are 10 unique classes in training dataset\n",
      "Breakdown of each labels is below (format: dict key is label, dict value is occurrence of that label/ number of images for that label)\n"
     ]
    },
    {
     "data": {
      "text/plain": [
       "Counter({0: 600,\n",
       "         1: 600,\n",
       "         2: 600,\n",
       "         3: 600,\n",
       "         4: 600,\n",
       "         5: 600,\n",
       "         6: 600,\n",
       "         7: 600,\n",
       "         8: 600,\n",
       "         9: 600})"
      ]
     },
     "metadata": {},
     "output_type": "display_data"
    },
    {
     "name": "stdout",
     "output_type": "stream",
     "text": [
      "There are 10 unique classes in validation dataset\n",
      "Breakdown of each labels is below (format: dict key is label, dict value is occurrence of that label/ number of images for that label)\n"
     ]
    },
    {
     "data": {
      "text/plain": [
       "Counter({0: 100,\n",
       "         1: 100,\n",
       "         2: 100,\n",
       "         3: 100,\n",
       "         4: 100,\n",
       "         5: 100,\n",
       "         6: 100,\n",
       "         7: 100,\n",
       "         8: 100,\n",
       "         9: 100})"
      ]
     },
     "metadata": {},
     "output_type": "display_data"
    },
    {
     "name": "stdout",
     "output_type": "stream",
     "text": [
      "___________________\n",
      "\n",
      "\n",
      "Randomly printing 10 images with labels from training dataset\n",
      "index: 1092\n",
      "Lable: 1\n"
     ]
    },
    {
     "data": {
      "image/png": "[encoded data removed]",
      "text/plain": [
       "<Figure size 432x288 with 1 Axes>"
      ]
     },
     "metadata": {
      "needs_background": "light"
     },
     "output_type": "display_data"
    },
    {
     "name": "stdout",
     "output_type": "stream",
     "text": [
      "index: 2321\n",
      "Lable: 3\n"
     ]
    },
    {
     "data": {
      "image/png": "[encoded data removed]",
      "text/plain": [
       "<Figure size 432x288 with 1 Axes>"
      ]
     },
     "metadata": {
      "needs_background": "light"
     },
     "output_type": "display_data"
    },
    {
     "name": "stdout",
     "output_type": "stream",
     "text": [
      "index: 1453\n",
      "Lable: 2\n"
     ]
    },
    {
     "data": {
      "image/png": "[encoded data removed]",
      "text/plain": [
       "<Figure size 432x288 with 1 Axes>"
      ]
     },
     "metadata": {
      "needs_background": "light"
     },
     "output_type": "display_data"
    },
    {
     "name": "stdout",
     "output_type": "stream",
     "text": [
      "index: 738\n",
      "Lable: 1\n"
     ]
    },
    {
     "data": {
      "image/png": "[encoded data removed]",
      "text/plain": [
       "<Figure size 432x288 with 1 Axes>"
      ]
     },
     "metadata": {
      "needs_background": "light"
     },
     "output_type": "display_data"
    },
    {
     "name": "stdout",
     "output_type": "stream",
     "text": [
      "index: 5278\n",
      "Lable: 8\n"
     ]
    },
    {
     "data": {
      "image/png": "[encoded data removed]",
      "text/plain": [
       "<Figure size 432x288 with 1 Axes>"
      ]
     },
     "metadata": {
      "needs_background": "light"
     },
     "output_type": "display_data"
    },
    {
     "name": "stdout",
     "output_type": "stream",
     "text": [
      "index: 4387\n",
      "Lable: 7\n"
     ]
    },
    {
     "data": {
      "image/png": "[encoded data removed]",
      "text/plain": [
       "<Figure size 432x288 with 1 Axes>"
      ]
     },
     "metadata": {
      "needs_background": "light"
     },
     "output_type": "display_data"
    },
    {
     "name": "stdout",
     "output_type": "stream",
     "text": [
      "index: 481\n",
      "Lable: 0\n"
     ]
    },
    {
     "data": {
      "image/png": "[encoded data removed]",
      "text/plain": [
       "<Figure size 432x288 with 1 Axes>"
      ]
     },
     "metadata": {
      "needs_background": "light"
     },
     "output_type": "display_data"
    },
    {
     "name": "stdout",
     "output_type": "stream",
     "text": [
      "index: 2\n",
      "Lable: 0\n"
     ]
    },
    {
     "data": {
      "image/png": "[encoded data removed]",
      "text/plain": [
       "<Figure size 432x288 with 1 Axes>"
      ]
     },
     "metadata": {
      "needs_background": "light"
     },
     "output_type": "display_data"
    },
    {
     "name": "stdout",
     "output_type": "stream",
     "text": [
      "index: 2828\n",
      "Lable: 4\n"
     ]
    },
    {
     "data": {
      "image/png": "[encoded data removed]",
      "text/plain": [
       "<Figure size 432x288 with 1 Axes>"
      ]
     },
     "metadata": {
      "needs_background": "light"
     },
     "output_type": "display_data"
    },
    {
     "name": "stdout",
     "output_type": "stream",
     "text": [
      "index: 721\n",
      "Lable: 1\n"
     ]
    },
    {
     "data": {
      "image/png": "[encoded data removed]",
      "text/plain": [
       "<Figure size 432x288 with 1 Axes>"
      ]
     },
     "metadata": {
      "needs_background": "light"
     },
     "output_type": "display_data"
    },
    {
     "name": "stdout",
     "output_type": "stream",
     "text": [
      "___________________\n",
      "\n",
      "\n",
      "Randomly printing 10 images with labels from testing dataset\n",
      "index: 3248\n",
      "Lable: 5\n"
     ]
    },
    {
     "data": {
      "image/png": "[encoded data removed]",
      "text/plain": [
       "<Figure size 432x288 with 1 Axes>"
      ]
     },
     "metadata": {
      "needs_background": "light"
     },
     "output_type": "display_data"
    },
    {
     "name": "stdout",
     "output_type": "stream",
     "text": [
      "index: 4547\n",
      "Lable: 7\n"
     ]
    },
    {
     "data": {
      "image/png": "[encoded data removed]",
      "text/plain": [
       "<Figure size 432x288 with 1 Axes>"
      ]
     },
     "metadata": {
      "needs_background": "light"
     },
     "output_type": "display_data"
    },
    {
     "name": "stdout",
     "output_type": "stream",
     "text": [
      "index: 3676\n",
      "Lable: 6\n"
     ]
    },
    {
     "data": {
      "image/png": "[encoded data removed]",
      "text/plain": [
       "<Figure size 432x288 with 1 Axes>"
      ]
     },
     "metadata": {
      "needs_background": "light"
     },
     "output_type": "display_data"
    },
    {
     "name": "stdout",
     "output_type": "stream",
     "text": [
      "index: 1000\n",
      "Lable: 1\n"
     ]
    },
    {
     "data": {
      "image/png": "[encoded data removed]",
      "text/plain": [
       "<Figure size 432x288 with 1 Axes>"
      ]
     },
     "metadata": {
      "needs_background": "light"
     },
     "output_type": "display_data"
    },
    {
     "name": "stdout",
     "output_type": "stream",
     "text": [
      "index: 4124\n",
      "Lable: 6\n"
     ]
    },
    {
     "data": {
      "image/png": "[encoded data removed]",
      "text/plain": [
       "<Figure size 432x288 with 1 Axes>"
      ]
     },
     "metadata": {
      "needs_background": "light"
     },
     "output_type": "display_data"
    },
    {
     "name": "stdout",
     "output_type": "stream",
     "text": [
      "index: 3429\n",
      "Lable: 5\n"
     ]
    },
    {
     "data": {
      "image/png": "[encoded data removed]",
      "text/plain": [
       "<Figure size 432x288 with 1 Axes>"
      ]
     },
     "metadata": {
      "needs_background": "light"
     },
     "output_type": "display_data"
    },
    {
     "name": "stdout",
     "output_type": "stream",
     "text": [
      "index: 5662\n",
      "Lable: 9\n"
     ]
    },
    {
     "data": {
      "image/png": "[encoded data removed]",
      "text/plain": [
       "<Figure size 432x288 with 1 Axes>"
      ]
     },
     "metadata": {
      "needs_background": "light"
     },
     "output_type": "display_data"
    },
    {
     "name": "stdout",
     "output_type": "stream",
     "text": [
      "index: 335\n",
      "Lable: 0\n"
     ]
    },
    {
     "data": {
      "image/png": "[encoded data removed]",
      "text/plain": [
       "<Figure size 432x288 with 1 Axes>"
      ]
     },
     "metadata": {
      "needs_background": "light"
     },
     "output_type": "display_data"
    },
    {
     "name": "stdout",
     "output_type": "stream",
     "text": [
      "index: 4961\n",
      "Lable: 8\n"
     ]
    },
    {
     "data": {
      "image/png": "[encoded data removed]",
      "text/plain": [
       "<Figure size 432x288 with 1 Axes>"
      ]
     },
     "metadata": {
      "needs_background": "light"
     },
     "output_type": "display_data"
    },
    {
     "name": "stdout",
     "output_type": "stream",
     "text": [
      "index: 1599\n",
      "Lable: 2\n"
     ]
    },
    {
     "data": {
      "image/png": "[encoded data removed]",
      "text/plain": [
       "<Figure size 432x288 with 1 Axes>"
      ]
     },
     "metadata": {
      "needs_background": "light"
     },
     "output_type": "display_data"
    },
    {
     "name": "stdout",
     "output_type": "stream",
     "text": [
      "___________________\n",
      "\n",
      "\n"
     ]
    }
   ],
   "source": [
    "# Checking the shape of first image in new training dataset\n",
    "print(new_dataset[0][0][0].shape)\n",
    "print(\"___________________\")\n",
    "\n",
    "\n",
    "# Checking the size of dataset\n",
    "print(\"There are\",len(new_dataset[0][1]),\"labels in training dataset for\",len(new_dataset[0][0]),\"images in training dataset\")\n",
    "print(\"There are\",len(new_dataset[1][1]),\"labels in training dataset for\",len(new_dataset[1][0]),\"images in training dataset\")\n",
    "print(\"___________________\\n\\n\")\n",
    "# Excepted output\n",
    "# There are 6000 labels in training dataset for 6000 images in training dataset\n",
    "# There are 1000 labels in training dataset for 1000 images in training dataset\n",
    "\n",
    "\n",
    "\n",
    "\n",
    "# Checking the number of images per class\n",
    "print(\"There are\", len(set(new_dataset[0][1])),\"unique classes in training dataset\")\n",
    "print(\"Breakdown of each labels is below (format: dict key is label, dict value is occurrence of that label/ number of images for that label)\")\n",
    "display(collections.Counter(new_dataset[0][1]))\n",
    "print(\"There are\", len(set(new_dataset[1][1])),\"unique classes in validation dataset\")\n",
    "print(\"Breakdown of each labels is below (format: dict key is label, dict value is occurrence of that label/ number of images for that label)\")\n",
    "display(collections.Counter(new_dataset[1][1]))\n",
    "print(\"___________________\\n\\n\")\n",
    "# Expected output\n",
    "# There are 10 unique classes in training dataset\n",
    "# Breakdown of each labels is below (format: dict key is label, dict value is occurrence of that label/ number of images for that label)\n",
    "# Counter({0: 600,\n",
    "#          1: 600,\n",
    "#          2: 600,\n",
    "#          3: 600,\n",
    "#          4: 600,\n",
    "#          5: 600,\n",
    "#          6: 600,\n",
    "#          7: 600,\n",
    "#          8: 600,\n",
    "#          9: 600})\n",
    "# There are 10 unique classes in validation dataset\n",
    "# Breakdown of each labels is below (format: dict key is label, dict value is occurrence of that label/ number of images for that label)\n",
    "# Counter({0: 100,\n",
    "#          1: 100,\n",
    "#          2: 100,\n",
    "#          3: 100,\n",
    "#          4: 100,\n",
    "#          5: 100,\n",
    "#          6: 100,\n",
    "#          7: 100,\n",
    "#          8: 100,\n",
    "#          9: 100})\n",
    "\n",
    "\n",
    "# Checking the correctness of indexing of image and its labels\n",
    "print(\"Randomly printing 10 images with labels from training dataset\")\n",
    "display_random_images_with_labels(new_dataset[0])\n",
    "print(\"___________________\\n\\n\")\n",
    "print(\"Randomly printing 10 images with labels from testing dataset\")\n",
    "display_random_images_with_labels(new_dataset[0])\n",
    "print(\"___________________\\n\\n\")\n",
    "\n"
   ]
  },
  {
   "cell_type": "code",
   "execution_count": null,
   "metadata": {},
   "outputs": [],
   "source": []
  },
  {
   "cell_type": "code",
   "execution_count": null,
   "metadata": {},
   "outputs": [],
   "source": []
  }
 ],
 "metadata": {
  "kernelspec": {
   "display_name": "Python [conda env:our] *",
   "language": "python",
   "name": "conda-env-our-py"
  },
  "language_info": {
   "codemirror_mode": {
    "name": "ipython",
    "version": 3
   },
   "file_extension": ".py",
   "mimetype": "text/x-python",
   "name": "python",
   "nbconvert_exporter": "python",
   "pygments_lexer": "ipython3",
   "version": "3.6.8"
  }
 },
 "nbformat": 4,
 "nbformat_minor": 2
}
