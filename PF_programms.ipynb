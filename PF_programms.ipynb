{
 "cells": [
  {
   "cell_type": "markdown",
   "id": "759ccbcf",
   "metadata": {},
   "source": [
    "**Program 1** \n",
    "\n",
    "Problem statement 1Required python function for a students class which takes input from the user for \n",
    "\n",
    "Total number of students in the class\n",
    "\n",
    "Number of students with mathematics \n",
    "\n",
    "Number of Students with Bio\n",
    "\n",
    "Calculate the number of students without Math and Bio\n",
    "\n",
    "Calculate the number of students with Math and Bio"
   ]
  },
  {
   "cell_type": "code",
   "execution_count": 4,
   "id": "c692a502",
   "metadata": {},
   "outputs": [
    {
     "name": "stdout",
     "output_type": "stream",
     "text": [
      "Enter the total number of students in the class: y\n",
      "Invalid input! Please enter a valid value in integer .\n",
      "Enter the total number of students in the class: 100\n",
      "Enter the number of students with mathematics: z\n",
      "Invalid input! Please enter a valid value in integer .\n",
      "Enter the number of students with mathematics: 12\n",
      "Enter the number of students with bio: 6\n",
      "Number of students without Math and Bio: 82\n",
      "Number of students with Math and Bio: 18\n"
     ]
    }
   ],
   "source": [
    "def student_class():\n",
    "    while True:\n",
    "        try:\n",
    "            total_students = int(input(\"Enter the total number of students in the class: \"))\n",
    "            break\n",
    "        except ValueError:\n",
    "            print(\"Invalid input! Please enter a valid value in integer .\")\n",
    "            \n",
    "    while True:\n",
    "        try:\n",
    "            math_students = int(input(\"Enter the number of students with mathematics: \"))\n",
    "            break\n",
    "        except ValueError:\n",
    "            print(\"Invalid input! Please enter a valid value in integer .\")\n",
    "    while True:\n",
    "        try:\n",
    "            bio_students = int(input(\"Enter the number of students with bio: \"))\n",
    "            break\n",
    "        except ValueError:\n",
    "            print(\"Invalid input! Please enter a valid value in integer.\")\n",
    "            \n",
    "    without_math_bio = total_students - (math_students + bio_students)\n",
    "    with_math_bio = math_students + bio_students\n",
    "    \n",
    "    if with_math_bio > total_students:\n",
    "        print('please give the values within the total value of students')\n",
    "        \n",
    "    else:\n",
    "        print(f\"Number of students without Math and Bio: {without_math_bio}\")\n",
    "        print(f\"Number of students with Math and Bio: {with_math_bio}\")\n",
    "    \n",
    "\n",
    "student_class()"
   ]
  },
  {
   "cell_type": "markdown",
   "id": "086e00e6",
   "metadata": {},
   "source": [
    "**Pogramm 2 :**  \n",
    "\n",
    "Need a method in python which find out the given number is prime number or not.\n",
    "\n",
    "Case not prime number return the value of -1\n",
    "\n",
    "Case prime number N calculate the sum of all number from 0 till the N"
   ]
  },
  {
   "cell_type": "code",
   "execution_count": 1,
   "id": "a1da5193",
   "metadata": {},
   "outputs": [
    {
     "name": "stdout",
     "output_type": "stream",
     "text": [
      "Invalid input! Please enter a valid value in integer.\n",
      "The number is prime number and sum of all numbers from 0 to 7 is 28\n"
     ]
    }
   ],
   "source": [
    "def prime_and_sum(n):\n",
    "    for i in range(2, int(n)):\n",
    "        if n % i == 0:\n",
    "            return -1\n",
    "\n",
    "    return sum(range(n + 1))\n",
    "\n",
    "while True:\n",
    "    \n",
    "    try:\n",
    "        num = int(input(\"Enter a number:\\t\"))\n",
    "        break\n",
    "        \n",
    "    except ValueError:\n",
    "            print(\"Invalid input! Please enter a valid value in integer.\")\n",
    "\n",
    "result = prime_and_sum(num)\n",
    "if result == -1:\n",
    "    print(f\"{num} is not a prime number (-1)\")\n",
    "\n",
    "else:\n",
    "    print(f\"The number is prime number and sum of all numbers from 0 to {num} is {result}\")\n",
    "\n"
   ]
  }
 ],
 "metadata": {
  "kernelspec": {
   "display_name": "Python 3",
   "language": "python",
   "name": "python3"
  },
  "language_info": {
   "codemirror_mode": {
    "name": "ipython",
    "version": 3
   },
   "file_extension": ".py",
   "mimetype": "text/x-python",
   "name": "python",
   "nbconvert_exporter": "python",
   "pygments_lexer": "ipython3",
   "version": "3.10.2"
  },
  "vscode": {
   "interpreter": {
    "hash": "bfbf60b97dda3e4e4d01229dc85f8d21e567810b809bb5631c9e222ebd721b43"
   }
  }
 },
 "nbformat": 4,
 "nbformat_minor": 5
}
